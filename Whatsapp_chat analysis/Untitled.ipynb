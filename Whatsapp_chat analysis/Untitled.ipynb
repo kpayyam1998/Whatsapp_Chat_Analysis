{
 "cells": [
  {
   "cell_type": "code",
   "execution_count": 11,
   "id": "419557c8",
   "metadata": {},
   "outputs": [],
   "source": [
    "from tensorflow.keras.preprocessing.text import Tokenizer\n",
    "\n",
    "token=Tokenizer()\n",
    "\n",
    "text=[\"my name is XXX from yyyy and working in zzz\"]\n",
    "\n"
   ]
  },
  {
   "cell_type": "code",
   "execution_count": 4,
   "id": "0ede82db",
   "metadata": {},
   "outputs": [],
   "source": [
    "#token.fit_on_texts(text)\n",
    "t  = Tokenizer()\n",
    "fit_text = [\"The earth is an awesome place live\"]\n",
    "t.fit_on_texts(fit_text)"
   ]
  },
  {
   "cell_type": "code",
   "execution_count": 13,
   "id": "02535023",
   "metadata": {},
   "outputs": [],
   "source": [
    "token.fit_on_texts(text)\n"
   ]
  },
  {
   "cell_type": "code",
   "execution_count": 17,
   "id": "c5c794c6",
   "metadata": {},
   "outputs": [
    {
     "data": {
      "text/plain": [
       "{'my': 1,\n",
       " 'name': 2,\n",
       " 'is': 3,\n",
       " 'xxx': 4,\n",
       " 'from': 5,\n",
       " 'yyyy': 6,\n",
       " 'and': 7,\n",
       " 'working': 8,\n",
       " 'in': 9,\n",
       " 'zzz': 10}"
      ]
     },
     "execution_count": 17,
     "metadata": {},
     "output_type": "execute_result"
    }
   ],
   "source": [
    "token.word_index"
   ]
  },
  {
   "cell_type": "code",
   "execution_count": 23,
   "id": "6738ef67",
   "metadata": {},
   "outputs": [
    {
     "data": {
      "text/plain": [
       "[[1, 2, 3, 4, 5, 6, 7, 8, 9, 10]]"
      ]
     },
     "execution_count": 23,
     "metadata": {},
     "output_type": "execute_result"
    }
   ],
   "source": [
    "token.texts_to_sequences(text)"
   ]
  },
  {
   "cell_type": "code",
   "execution_count": 22,
   "id": "ee7e9e92",
   "metadata": {},
   "outputs": [],
   "source": [
    "seq=token.texts_to_sequences(text)\n"
   ]
  },
  {
   "cell_type": "code",
   "execution_count": 21,
   "id": "74a2f674",
   "metadata": {},
   "outputs": [],
   "source": [
    "from tensorflow.keras.preprocessing.sequence import pad_sequences\n"
   ]
  },
  {
   "cell_type": "code",
   "execution_count": 24,
   "id": "15d48ea6",
   "metadata": {},
   "outputs": [
    {
     "data": {
      "text/plain": [
       "array([[ 1,  2,  3,  4,  5,  6,  7,  8,  9, 10]])"
      ]
     },
     "execution_count": 24,
     "metadata": {},
     "output_type": "execute_result"
    }
   ],
   "source": [
    "pad_sequences(seq)"
   ]
  },
  {
   "cell_type": "code",
   "execution_count": 25,
   "id": "d8130176",
   "metadata": {},
   "outputs": [
    {
     "data": {
      "text/plain": [
       "{1: 'my',\n",
       " 2: 'name',\n",
       " 3: 'is',\n",
       " 4: 'xxx',\n",
       " 5: 'from',\n",
       " 6: 'yyyy',\n",
       " 7: 'and',\n",
       " 8: 'working',\n",
       " 9: 'in',\n",
       " 10: 'zzz'}"
      ]
     },
     "execution_count": 25,
     "metadata": {},
     "output_type": "execute_result"
    }
   ],
   "source": [
    "\n",
    "token.index_word"
   ]
  },
  {
   "cell_type": "code",
   "execution_count": 38,
   "id": "23a45fe2",
   "metadata": {},
   "outputs": [
    {
     "name": "stdout",
     "output_type": "stream",
     "text": [
      "1 my\n",
      "2 name\n",
      "3 is\n",
      "4 xxx\n",
      "5 from\n",
      "6 yyyy\n",
      "7 and\n",
      "8 working\n",
      "9 in\n",
      "10 zzz\n"
     ]
    }
   ],
   "source": [
    "val=token.index_word\n",
    "for key,value in val.items():\n",
    "    print(key,value)"
   ]
  },
  {
   "cell_type": "code",
   "execution_count": null,
   "id": "9d9fd42e",
   "metadata": {},
   "outputs": [],
   "source": []
  },
  {
   "cell_type": "code",
   "execution_count": 1,
   "id": "d313c072",
   "metadata": {},
   "outputs": [],
   "source": [
    "import pandas as pd"
   ]
  },
  {
   "cell_type": "code",
   "execution_count": 9,
   "id": "a877b396",
   "metadata": {},
   "outputs": [
    {
     "data": {
      "text/html": [
       "<div>\n",
       "<style scoped>\n",
       "    .dataframe tbody tr th:only-of-type {\n",
       "        vertical-align: middle;\n",
       "    }\n",
       "\n",
       "    .dataframe tbody tr th {\n",
       "        vertical-align: top;\n",
       "    }\n",
       "\n",
       "    .dataframe thead th {\n",
       "        text-align: right;\n",
       "    }\n",
       "</style>\n",
       "<table border=\"1\" class=\"dataframe\">\n",
       "  <thead>\n",
       "    <tr style=\"text-align: right;\">\n",
       "      <th></th>\n",
       "      <th>0</th>\n",
       "    </tr>\n",
       "  </thead>\n",
       "  <tbody>\n",
       "    <tr>\n",
       "      <th>0</th>\n",
       "      <td>5/23/23, 9:58 PM - Messages and calls are end-...</td>\n",
       "    </tr>\n",
       "    <tr>\n",
       "      <th>1</th>\n",
       "      <td>5/24/23, 9:15 PM - Diamond 🔔: Kp</td>\n",
       "    </tr>\n",
       "    <tr>\n",
       "      <th>2</th>\n",
       "      <td>5/24/23, 9:16 PM - Diamond 🔔: Sariyeana samavam</td>\n",
       "    </tr>\n",
       "    <tr>\n",
       "      <th>3</th>\n",
       "      <td>5/24/23, 9:16 PM - Diamond 🔔: Call me</td>\n",
       "    </tr>\n",
       "    <tr>\n",
       "      <th>4</th>\n",
       "      <td>5/24/23, 9:26 PM - --: Cha pavam ra</td>\n",
       "    </tr>\n",
       "  </tbody>\n",
       "</table>\n",
       "</div>"
      ],
      "text/plain": [
       "                                                   0\n",
       "0  5/23/23, 9:58 PM - Messages and calls are end-...\n",
       "1                   5/24/23, 9:15 PM - Diamond 🔔: Kp\n",
       "2    5/24/23, 9:16 PM - Diamond 🔔: Sariyeana samavam\n",
       "3              5/24/23, 9:16 PM - Diamond 🔔: Call me\n",
       "4                5/24/23, 9:26 PM - --: Cha pavam ra"
      ]
     },
     "execution_count": 9,
     "metadata": {},
     "output_type": "execute_result"
    }
   ],
   "source": [
    "data=pd.read_csv('./WhatsApp_Chat_with_Diamond.txt',sep=\"\\t\",header=None)\n",
    "                \n",
    "data.head()\n"
   ]
  },
  {
   "cell_type": "code",
   "execution_count": 25,
   "id": "7e6bf0fe",
   "metadata": {},
   "outputs": [],
   "source": [
    "newdf=data.iloc[1:10]\n"
   ]
  },
  {
   "cell_type": "code",
   "execution_count": 26,
   "id": "a2017fc9",
   "metadata": {},
   "outputs": [
    {
     "data": {
      "text/html": [
       "<div>\n",
       "<style scoped>\n",
       "    .dataframe tbody tr th:only-of-type {\n",
       "        vertical-align: middle;\n",
       "    }\n",
       "\n",
       "    .dataframe tbody tr th {\n",
       "        vertical-align: top;\n",
       "    }\n",
       "\n",
       "    .dataframe thead th {\n",
       "        text-align: right;\n",
       "    }\n",
       "</style>\n",
       "<table border=\"1\" class=\"dataframe\">\n",
       "  <thead>\n",
       "    <tr style=\"text-align: right;\">\n",
       "      <th></th>\n",
       "      <th>index</th>\n",
       "      <th>0</th>\n",
       "    </tr>\n",
       "  </thead>\n",
       "  <tbody>\n",
       "    <tr>\n",
       "      <th>0</th>\n",
       "      <td>1</td>\n",
       "      <td>5/24/23, 9:15 PM - Diamond 🔔: Kp</td>\n",
       "    </tr>\n",
       "    <tr>\n",
       "      <th>1</th>\n",
       "      <td>2</td>\n",
       "      <td>5/24/23, 9:16 PM - Diamond 🔔: Sariyeana samavam</td>\n",
       "    </tr>\n",
       "    <tr>\n",
       "      <th>2</th>\n",
       "      <td>3</td>\n",
       "      <td>5/24/23, 9:16 PM - Diamond 🔔: Call me</td>\n",
       "    </tr>\n",
       "    <tr>\n",
       "      <th>3</th>\n",
       "      <td>4</td>\n",
       "      <td>5/24/23, 9:26 PM - --: Cha pavam ra</td>\n",
       "    </tr>\n",
       "    <tr>\n",
       "      <th>4</th>\n",
       "      <td>5</td>\n",
       "      <td>5/24/23, 9:26 PM - --: ?</td>\n",
       "    </tr>\n",
       "    <tr>\n",
       "      <th>5</th>\n",
       "      <td>6</td>\n",
       "      <td>5/24/23, 9:27 PM - Diamond 🔔: Nanku tension ka...</td>\n",
       "    </tr>\n",
       "    <tr>\n",
       "      <th>6</th>\n",
       "      <td>7</td>\n",
       "      <td>5/24/23, 9:27 PM - --: Vaar amma ayya</td>\n",
       "    </tr>\n",
       "    <tr>\n",
       "      <th>7</th>\n",
       "      <td>8</td>\n",
       "      <td>5/24/23, 9:27 PM - --: Entie pani ra</td>\n",
       "    </tr>\n",
       "    <tr>\n",
       "      <th>8</th>\n",
       "      <td>9</td>\n",
       "      <td>5/24/23, 9:27 PM - Diamond 🔔: Ommalaka nanku t...</td>\n",
       "    </tr>\n",
       "  </tbody>\n",
       "</table>\n",
       "</div>"
      ],
      "text/plain": [
       "   index                                                  0\n",
       "0      1                   5/24/23, 9:15 PM - Diamond 🔔: Kp\n",
       "1      2    5/24/23, 9:16 PM - Diamond 🔔: Sariyeana samavam\n",
       "2      3              5/24/23, 9:16 PM - Diamond 🔔: Call me\n",
       "3      4                5/24/23, 9:26 PM - --: Cha pavam ra\n",
       "4      5                           5/24/23, 9:26 PM - --: ?\n",
       "5      6  5/24/23, 9:27 PM - Diamond 🔔: Nanku tension ka...\n",
       "6      7              5/24/23, 9:27 PM - --: Vaar amma ayya\n",
       "7      8               5/24/23, 9:27 PM - --: Entie pani ra\n",
       "8      9  5/24/23, 9:27 PM - Diamond 🔔: Ommalaka nanku t..."
      ]
     },
     "execution_count": 26,
     "metadata": {},
     "output_type": "execute_result"
    }
   ],
   "source": [
    "newdf.reset_index()"
   ]
  },
  {
   "cell_type": "code",
   "execution_count": 24,
   "id": "98f1b5a1",
   "metadata": {},
   "outputs": [
    {
     "data": {
      "text/html": [
       "<div>\n",
       "<style scoped>\n",
       "    .dataframe tbody tr th:only-of-type {\n",
       "        vertical-align: middle;\n",
       "    }\n",
       "\n",
       "    .dataframe tbody tr th {\n",
       "        vertical-align: top;\n",
       "    }\n",
       "\n",
       "    .dataframe thead th {\n",
       "        text-align: right;\n",
       "    }\n",
       "</style>\n",
       "<table border=\"1\" class=\"dataframe\">\n",
       "  <thead>\n",
       "    <tr style=\"text-align: right;\">\n",
       "      <th></th>\n",
       "      <th>0</th>\n",
       "    </tr>\n",
       "  </thead>\n",
       "  <tbody>\n",
       "    <tr>\n",
       "      <th>0</th>\n",
       "      <td>5/23/23, 9:58 PM - Messages and calls are end-...</td>\n",
       "    </tr>\n",
       "    <tr>\n",
       "      <th>1</th>\n",
       "      <td>5/24/23, 9:15 PM - Diamond 🔔: Kp</td>\n",
       "    </tr>\n",
       "    <tr>\n",
       "      <th>2</th>\n",
       "      <td>5/24/23, 9:16 PM - Diamond 🔔: Sariyeana samavam</td>\n",
       "    </tr>\n",
       "    <tr>\n",
       "      <th>3</th>\n",
       "      <td>5/24/23, 9:16 PM - Diamond 🔔: Call me</td>\n",
       "    </tr>\n",
       "    <tr>\n",
       "      <th>4</th>\n",
       "      <td>5/24/23, 9:26 PM - --: Cha pavam ra</td>\n",
       "    </tr>\n",
       "    <tr>\n",
       "      <th>5</th>\n",
       "      <td>5/24/23, 9:26 PM - --: ?</td>\n",
       "    </tr>\n",
       "    <tr>\n",
       "      <th>6</th>\n",
       "      <td>5/24/23, 9:27 PM - Diamond 🔔: Nanku tension ka...</td>\n",
       "    </tr>\n",
       "    <tr>\n",
       "      <th>7</th>\n",
       "      <td>5/24/23, 9:27 PM - --: Vaar amma ayya</td>\n",
       "    </tr>\n",
       "    <tr>\n",
       "      <th>8</th>\n",
       "      <td>5/24/23, 9:27 PM - --: Entie pani ra</td>\n",
       "    </tr>\n",
       "    <tr>\n",
       "      <th>9</th>\n",
       "      <td>5/24/23, 9:27 PM - Diamond 🔔: Ommalaka nanku t...</td>\n",
       "    </tr>\n",
       "  </tbody>\n",
       "</table>\n",
       "</div>"
      ],
      "text/plain": [
       "                                                   0\n",
       "0  5/23/23, 9:58 PM - Messages and calls are end-...\n",
       "1                   5/24/23, 9:15 PM - Diamond 🔔: Kp\n",
       "2    5/24/23, 9:16 PM - Diamond 🔔: Sariyeana samavam\n",
       "3              5/24/23, 9:16 PM - Diamond 🔔: Call me\n",
       "4                5/24/23, 9:26 PM - --: Cha pavam ra\n",
       "5                           5/24/23, 9:26 PM - --: ?\n",
       "6  5/24/23, 9:27 PM - Diamond 🔔: Nanku tension ka...\n",
       "7              5/24/23, 9:27 PM - --: Vaar amma ayya\n",
       "8               5/24/23, 9:27 PM - --: Entie pani ra\n",
       "9  5/24/23, 9:27 PM - Diamond 🔔: Ommalaka nanku t..."
      ]
     },
     "execution_count": 24,
     "metadata": {},
     "output_type": "execute_result"
    }
   ],
   "source": [
    "newdf"
   ]
  },
  {
   "cell_type": "code",
   "execution_count": null,
   "id": "22df74d8",
   "metadata": {},
   "outputs": [],
   "source": []
  }
 ],
 "metadata": {
  "kernelspec": {
   "display_name": "Python 3 (ipykernel)",
   "language": "python",
   "name": "python3"
  },
  "language_info": {
   "codemirror_mode": {
    "name": "ipython",
    "version": 3
   },
   "file_extension": ".py",
   "mimetype": "text/x-python",
   "name": "python",
   "nbconvert_exporter": "python",
   "pygments_lexer": "ipython3",
   "version": "3.10.9"
  }
 },
 "nbformat": 4,
 "nbformat_minor": 5
}
